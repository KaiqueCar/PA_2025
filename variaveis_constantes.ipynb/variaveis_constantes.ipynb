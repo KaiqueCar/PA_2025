{
  "nbformat": 4,
  "nbformat_minor": 0,
  "metadata": {
    "colab": {
      "provenance": [],
      "authorship_tag": "ABX9TyMOadI/LyRwL6cclNf3KQpa",
      "include_colab_link": true
    },
    "kernelspec": {
      "name": "python3",
      "display_name": "Python 3"
    },
    "language_info": {
      "name": "python"
    }
  },
  "cells": [
    {
      "cell_type": "markdown",
      "metadata": {
        "id": "view-in-github",
        "colab_type": "text"
      },
      "source": [
        "<a href=\"https://colab.research.google.com/github/KaiqueCar/PA_2025/blob/main/variaveis_constantes.ipynb/variaveis_constantes.ipynb\" target=\"_parent\"><img src=\"https://colab.research.google.com/assets/colab-badge.svg\" alt=\"Open In Colab\"/></a>"
      ]
    },
    {
      "cell_type": "markdown",
      "source": [
        "#variaveis e constantes\n",
        "negrito"
      ],
      "metadata": {
        "id": "JSYmI6w3gRAK"
      }
    },
    {
      "cell_type": "code",
      "source": [
        "idade = 15\n",
        "altura = 1.68\n",
        "nome = \"Kaique Carmo\"\n",
        "vai = True\n"
      ],
      "metadata": {
        "id": "qFAiGZdFgdh-"
      },
      "execution_count": null,
      "outputs": []
    },
    {
      "cell_type": "code",
      "execution_count": null,
      "metadata": {
        "id": "js4gw_tzf9OQ"
      },
      "outputs": [],
      "source": [
        "nomes = [\"Cintia Pinho\", \"Kaique\", \"Carlos\"]\n",
        "nomes2 = (\"Cintia Pinho\", \"Kaique\", \"Carlos\")\n",
        "tudo = {nome:\"Cintia Pinho\", idade: 42, altura: 1.52}"
      ]
    },
    {
      "cell_type": "code",
      "source": [
        "print(\"O nome dele é: \", nome, \" Sua idade é: \", idade, \" Ela tem \" , altura, \" metros \" )"
      ],
      "metadata": {
        "colab": {
          "base_uri": "https://localhost:8080/"
        },
        "id": "XaaR4FobpPmc",
        "outputId": "15ad8f94-88a7-44ee-9a2f-f2e21af4d2b4"
      },
      "execution_count": null,
      "outputs": [
        {
          "output_type": "stream",
          "name": "stdout",
          "text": [
            "O nome dele é:  Kaique Carmo  Sua idade é:  15  Ela tem  1.68  metros \n"
          ]
        }
      ]
    },
    {
      "cell_type": "code",
      "source": [
        "print(nome)\n",
        "print(nomes)\n",
        "print(nomes2)"
      ],
      "metadata": {
        "colab": {
          "base_uri": "https://localhost:8080/"
        },
        "id": "V2ruyfGDjM-T",
        "outputId": "0c3b9061-e095-47f2-e6cd-ebc58e5cc029"
      },
      "execution_count": null,
      "outputs": [
        {
          "output_type": "stream",
          "name": "stdout",
          "text": [
            "kaique Carmo\n",
            "['Cintia Pinho', 'Kaique', 'Carlos']\n",
            "('Cintia Pinho', 'Kaique', 'Carlos')\n"
          ]
        }
      ]
    },
    {
      "cell_type": "code",
      "source": [
        "print(type(idade))\n",
        "print(type(altura))\n",
        "print(type(vai))\n",
        "print(type(nome))\n",
        "print(type(nomes))\n",
        "print(type(nomes2))\n",
        "print(type(tudo))"
      ],
      "metadata": {
        "colab": {
          "base_uri": "https://localhost:8080/"
        },
        "id": "zsTVwWYQkoum",
        "outputId": "21dad64b-3067-434d-b7cd-8692706b943e"
      },
      "execution_count": null,
      "outputs": [
        {
          "output_type": "stream",
          "name": "stdout",
          "text": [
            "<class 'int'>\n",
            "<class 'float'>\n",
            "<class 'bool'>\n",
            "<class 'str'>\n",
            "<class 'list'>\n",
            "<class 'tuple'>\n"
          ]
        }
      ]
    },
    {
      "cell_type": "code",
      "source": [
        "nome = \"kaique\"\n"
      ],
      "metadata": {
        "id": "20F4dgTcsYhN"
      },
      "execution_count": null,
      "outputs": []
    },
    {
      "cell_type": "code",
      "source": [
        "print(f\"Nome: {nome}\")"
      ],
      "metadata": {
        "colab": {
          "base_uri": "https://localhost:8080/"
        },
        "id": "Gme63uJktCLY",
        "outputId": "f64a39a4-57a7-4f84-8170-a95f6abfa4aa"
      },
      "execution_count": null,
      "outputs": [
        {
          "output_type": "stream",
          "name": "stdout",
          "text": [
            "Nome: kaique\n"
          ]
        }
      ]
    },
    {
      "cell_type": "markdown",
      "source": [
        "Area do circulo"
      ],
      "metadata": {
        "id": "cOLC300-vb1m"
      }
    },
    {
      "cell_type": "code",
      "source": [
        "PI = 3.14159\n",
        "raio = float(input(\"Digite o valor do raio do círculo: \"))"
      ],
      "metadata": {
        "colab": {
          "base_uri": "https://localhost:8080/"
        },
        "id": "BbsHdRT7vnA-",
        "outputId": "c14a8c07-1899-4ff8-b916-6c39c84c299d"
      },
      "execution_count": null,
      "outputs": [
        {
          "name": "stdout",
          "output_type": "stream",
          "text": [
            "Digite o valor do raio do circulo: 8\n"
          ]
        }
      ]
    },
    {
      "cell_type": "code",
      "source": [
        "areacir = PI * (raio**2)"
      ],
      "metadata": {
        "id": "7l1_9g1dwdsK"
      },
      "execution_count": null,
      "outputs": []
    },
    {
      "cell_type": "code",
      "source": [
        "print(f\"A área do círculo é: {areacir}\")"
      ],
      "metadata": {
        "colab": {
          "base_uri": "https://localhost:8080/"
        },
        "id": "5wuMDoA3xQFw",
        "outputId": "1166f66a-75c7-4460-a2a4-d5f2a8de723d"
      },
      "execution_count": null,
      "outputs": [
        {
          "output_type": "stream",
          "name": "stdout",
          "text": [
            "A área do círculo é: 201.06176\n"
          ]
        }
      ]
    },
    {
      "cell_type": "markdown",
      "source": [
        "Area do quadrado"
      ],
      "metadata": {
        "id": "Q-huAidDzwEP"
      }
    },
    {
      "cell_type": "code",
      "source": [
        "lado = float(input(\"Digite o valor do lado: \"))"
      ],
      "metadata": {
        "colab": {
          "base_uri": "https://localhost:8080/"
        },
        "id": "-OfWj70Iz0Ev",
        "outputId": "6115b0aa-efee-41df-e5b0-7278da99ce92"
      },
      "execution_count": null,
      "outputs": [
        {
          "name": "stdout",
          "output_type": "stream",
          "text": [
            "Digite o valor do lado: 2\n"
          ]
        }
      ]
    },
    {
      "cell_type": "code",
      "source": [
        "area = lado ** 2"
      ],
      "metadata": {
        "id": "JwkRzvGn0NJj"
      },
      "execution_count": null,
      "outputs": []
    },
    {
      "cell_type": "code",
      "source": [
        "print(f\"A área do quadrado é: {area}\")"
      ],
      "metadata": {
        "colab": {
          "base_uri": "https://localhost:8080/"
        },
        "id": "mBabwhoY0nNi",
        "outputId": "dc45bf5f-6c7c-42ad-b860-04422baf1add"
      },
      "execution_count": null,
      "outputs": [
        {
          "output_type": "stream",
          "name": "stdout",
          "text": [
            "A área do quadrado é: 4.0\n"
          ]
        }
      ]
    },
    {
      "cell_type": "markdown",
      "source": [
        "# Exercícios\n"
      ],
      "metadata": {
        "id": "DtCx0nQ6ovax"
      }
    },
    {
      "cell_type": "markdown",
      "source": [
        "## Exercício 1 - Área do Retângulo\n",
        "\n",
        "Crie um programa que calcule a área de um retângulo usando uma constante para representar a base.\n",
        "\n",
        " Fórmula: A = base × altura"
      ],
      "metadata": {
        "id": "vVhM6K5so3bh"
      }
    },
    {
      "cell_type": "code",
      "source": [
        "base = float(input(\"Digite o valor da base: \"))"
      ],
      "metadata": {
        "colab": {
          "base_uri": "https://localhost:8080/"
        },
        "id": "LNQ9NCqxp_ru",
        "outputId": "6f1f05ea-7496-45e3-d8bf-478abdefb3b8"
      },
      "execution_count": 24,
      "outputs": [
        {
          "name": "stdout",
          "output_type": "stream",
          "text": [
            "Digite o valor da base4\n"
          ]
        }
      ]
    },
    {
      "cell_type": "code",
      "source": [
        "altura = float(input(\"Digite o valor da altura: \"))"
      ],
      "metadata": {
        "colab": {
          "base_uri": "https://localhost:8080/"
        },
        "id": "_4slrM7QrGRL",
        "outputId": "808ea3c4-4409-4452-a8b3-d451b31fc6b9"
      },
      "execution_count": 23,
      "outputs": [
        {
          "name": "stdout",
          "output_type": "stream",
          "text": [
            "Digite  valor da altura5\n"
          ]
        }
      ]
    },
    {
      "cell_type": "code",
      "source": [
        "A = base * altura"
      ],
      "metadata": {
        "id": "j0YDczIouCKj"
      },
      "execution_count": 25,
      "outputs": []
    },
    {
      "cell_type": "code",
      "source": [
        "print(f\"A area é: {A}\")"
      ],
      "metadata": {
        "colab": {
          "base_uri": "https://localhost:8080/"
        },
        "id": "KI7xLMmDuKOl",
        "outputId": "86c7dd41-662c-407f-9c88-3c9784dde71b"
      },
      "execution_count": 26,
      "outputs": [
        {
          "output_type": "stream",
          "name": "stdout",
          "text": [
            "A area é: 20.0\n"
          ]
        }
      ]
    },
    {
      "cell_type": "markdown",
      "source": [
        "## Exercício 2 – Perímetro do Círculo\n",
        "\n",
        "Crie um programa que calcule o perímetro de um círculo usando a constante π.\n",
        "\n",
        " Fórmula: P = 2 × π × r"
      ],
      "metadata": {
        "id": "kBBpHEM4ufBk"
      }
    },
    {
      "cell_type": "code",
      "source": [
        "PI = 3.1416"
      ],
      "metadata": {
        "id": "cCyN48Vuuphm"
      },
      "execution_count": 27,
      "outputs": []
    },
    {
      "cell_type": "code",
      "source": [
        "r = float(input(\"Digite o valor do raio: \"))"
      ],
      "metadata": {
        "colab": {
          "base_uri": "https://localhost:8080/"
        },
        "id": "4RgiZCtmvCF9",
        "outputId": "29e575c4-2d94-4d9c-cea5-68c3540991ec"
      },
      "execution_count": 28,
      "outputs": [
        {
          "name": "stdout",
          "output_type": "stream",
          "text": [
            "Digite o valor do raio: 5\n"
          ]
        }
      ]
    },
    {
      "cell_type": "code",
      "source": [
        "P = 2 * PI * r"
      ],
      "metadata": {
        "id": "GaIXBz0DvaYF"
      },
      "execution_count": 29,
      "outputs": []
    },
    {
      "cell_type": "code",
      "source": [
        "print(f\"O perimetro é:{P:.2f}\")"
      ],
      "metadata": {
        "colab": {
          "base_uri": "https://localhost:8080/"
        },
        "id": "zfGe9etvvsxD",
        "outputId": "6818a979-37a9-49e5-b275-ed9ee09585f5"
      },
      "execution_count": 30,
      "outputs": [
        {
          "output_type": "stream",
          "name": "stdout",
          "text": [
            "O perimetro é:31.42\n"
          ]
        }
      ]
    },
    {
      "cell_type": "markdown",
      "source": [
        "## Exercício 3 – Conversão de Temperatura\n",
        "\n",
        "Crie um programa que converta uma temperatura de Fahrenheit para Celsius.\n",
        "\n",
        " Fórmula: C = (F - 32) × 5/9"
      ],
      "metadata": {
        "id": "sEu9S_EAwJci"
      }
    },
    {
      "cell_type": "code",
      "source": [
        "fah = float(input(\"Digite o valor do fahrenheint: \"))"
      ],
      "metadata": {
        "colab": {
          "base_uri": "https://localhost:8080/"
        },
        "id": "_vzYM9hywO4i",
        "outputId": "a53d6894-d00f-4fc0-e133-ece2c1ff1137"
      },
      "execution_count": 34,
      "outputs": [
        {
          "name": "stdout",
          "output_type": "stream",
          "text": [
            "Digite o valor do fahrenheint: 55\n"
          ]
        }
      ]
    },
    {
      "cell_type": "code",
      "source": [
        "C = (fah-32)*5/9"
      ],
      "metadata": {
        "id": "RkspjhtGwpK2"
      },
      "execution_count": 35,
      "outputs": []
    },
    {
      "cell_type": "code",
      "source": [
        "print(f\"O valor do celsius é: {C:.2f}\")"
      ],
      "metadata": {
        "colab": {
          "base_uri": "https://localhost:8080/"
        },
        "id": "QjocG-VsxSpU",
        "outputId": "4a2b4c25-af0b-4d2b-fe36-2c9b33017193"
      },
      "execution_count": 36,
      "outputs": [
        {
          "output_type": "stream",
          "name": "stdout",
          "text": [
            "O valor do celsius é: 12.78\n"
          ]
        }
      ]
    },
    {
      "cell_type": "markdown",
      "source": [
        "## Exercício 4 – Cálculo do IMC\n",
        "\n",
        "Crie um programa que calcule o Índice de Massa Corporal (IMC) de uma pessoa.\n",
        "\n",
        " Fórmula: IMC = peso / altura²"
      ],
      "metadata": {
        "id": "VvthPniVx_6l"
      }
    },
    {
      "cell_type": "code",
      "source": [
        "peso = float(input(\"Digite o valor do seu peso: \"))"
      ],
      "metadata": {
        "colab": {
          "base_uri": "https://localhost:8080/"
        },
        "id": "svcuy8c4yGpE",
        "outputId": "5b8fe7ec-d358-4618-df1b-a1838aeaa838"
      },
      "execution_count": 37,
      "outputs": [
        {
          "name": "stdout",
          "output_type": "stream",
          "text": [
            "Digite o valor do seu peso: 53\n"
          ]
        }
      ]
    },
    {
      "cell_type": "code",
      "source": [
        "altura  = float(input(\"Digite o valor da sua altura: \"))\n"
      ],
      "metadata": {
        "colab": {
          "base_uri": "https://localhost:8080/"
        },
        "id": "b1t84Bh6yaLH",
        "outputId": "e7b3989d-4c83-40bf-a3e9-8503444c732d"
      },
      "execution_count": 39,
      "outputs": [
        {
          "name": "stdout",
          "output_type": "stream",
          "text": [
            "Digite o valor da sua altura: 1.68\n"
          ]
        }
      ]
    },
    {
      "cell_type": "code",
      "source": [
        "IMC = peso / altura**2"
      ],
      "metadata": {
        "id": "3bNWwgHTym_s"
      },
      "execution_count": 40,
      "outputs": []
    },
    {
      "cell_type": "code",
      "source": [
        "print(f\"O seu IMC é: {IMC}\")"
      ],
      "metadata": {
        "colab": {
          "base_uri": "https://localhost:8080/"
        },
        "id": "0IGC08rry47J",
        "outputId": "7009ca01-1a2d-4855-e150-35bcabbc2253"
      },
      "execution_count": 41,
      "outputs": [
        {
          "output_type": "stream",
          "name": "stdout",
          "text": [
            "O seu IMC é: 18.77834467120182\n"
          ]
        }
      ]
    }
  ]
}