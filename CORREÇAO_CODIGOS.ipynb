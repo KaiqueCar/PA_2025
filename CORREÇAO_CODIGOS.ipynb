{
  "nbformat": 4,
  "nbformat_minor": 0,
  "metadata": {
    "colab": {
      "provenance": [],
      "authorship_tag": "ABX9TyNZlRFdZRHC+xn8enV/v/Ms",
      "include_colab_link": true
    },
    "kernelspec": {
      "name": "python3",
      "display_name": "Python 3"
    },
    "language_info": {
      "name": "python"
    }
  },
  "cells": [
    {
      "cell_type": "markdown",
      "metadata": {
        "id": "view-in-github",
        "colab_type": "text"
      },
      "source": [
        "<a href=\"https://colab.research.google.com/github/KaiqueCar/PA_2025/blob/main/CORRE%C3%87AO_CODIGOS.ipynb\" target=\"_parent\"><img src=\"https://colab.research.google.com/assets/colab-badge.svg\" alt=\"Open In Colab\"/></a>"
      ]
    },
    {
      "cell_type": "markdown",
      "source": [
        "#calculo do juros"
      ],
      "metadata": {
        "id": "pZqIzPB06U-6"
      }
    },
    {
      "cell_type": "code",
      "execution_count": null,
      "metadata": {
        "colab": {
          "base_uri": "https://localhost:8080/"
        },
        "id": "3_rgFXWo2Rzq",
        "outputId": "2ceb0658-40f5-418e-8dfa-80cf852920e2"
      },
      "outputs": [
        {
          "output_type": "stream",
          "name": "stdout",
          "text": [
            "Digite o valor do capital: 2000\n",
            "Digite o valor da taxa: 5\n",
            "Digite o valor do tempo: 2\n",
            "O valor do investimento será: 2205.0\n"
          ]
        }
      ],
      "source": [
        "c = float(input(\"Digite o valor do capital: \"))\n",
        "i = float(input(\"Digite o valor da taxa: \"))\n",
        "t = float(input(\"Digite o valor do tempo: \"))\n",
        "\n",
        "mo = c*(1+i/100)**t\n",
        "\n",
        "print(f\"O valor do investimento será: {mo}\")"
      ]
    },
    {
      "cell_type": "markdown",
      "source": [
        "#conta do restalrante"
      ],
      "metadata": {
        "id": "wT_metjq6anB"
      }
    },
    {
      "cell_type": "code",
      "source": [
        "g = float(input(\"Digite o valor da gorjeta: \"))\n",
        "t = float(input(\"Digite o valor da taxa: \"))\n",
        "p = int(input(\"Digite o valor das pessoas: \"))\n",
        "valorconta = float(input(\"Digite o valor da conta: \"))\n",
        "\n",
        "valor = valorconta + (valorconta * (t/100))+ g\n",
        "\n",
        "valorfinal = valor/p\n",
        "\n",
        "print(f\"O valor para cada pessoa é: {valorfinal}\")"
      ],
      "metadata": {
        "colab": {
          "base_uri": "https://localhost:8080/"
        },
        "id": "Ynq8rdG06iJR",
        "outputId": "5a47e7eb-cd99-4cdd-92de-74bf2e18c527"
      },
      "execution_count": null,
      "outputs": [
        {
          "output_type": "stream",
          "name": "stdout",
          "text": [
            "Digite o valor da gorjeta: 50\n",
            "Digite o valor da taxa: 10\n",
            "Digite o valor das pessoas: 4\n",
            "Digite o valor da conta: 200\n",
            "O valor para cada pessoa é: 67.5\n"
          ]
        }
      ]
    }
  ]
}