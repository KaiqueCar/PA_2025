{
  "nbformat": 4,
  "nbformat_minor": 0,
  "metadata": {
    "colab": {
      "provenance": [],
      "authorship_tag": "ABX9TyOe8uzjqGsGfoEZcOu4gj9q",
      "include_colab_link": true
    },
    "kernelspec": {
      "name": "python3",
      "display_name": "Python 3"
    },
    "language_info": {
      "name": "python"
    }
  },
  "cells": [
    {
      "cell_type": "markdown",
      "metadata": {
        "id": "view-in-github",
        "colab_type": "text"
      },
      "source": [
        "<a href=\"https://colab.research.google.com/github/KaiqueCar/PA_2025/blob/main/Untitled0.ipynb\" target=\"_parent\"><img src=\"https://colab.research.google.com/assets/colab-badge.svg\" alt=\"Open In Colab\"/></a>"
      ]
    },
    {
      "cell_type": "markdown",
      "source": [
        "#**negrito** PROGRAMAS DA LIÇÃO NAS AULAS ONLINE\n"
      ],
      "metadata": {
        "id": "P0RyEwix1acU"
      }
    },
    {
      "cell_type": "markdown",
      "source": [
        "## calculo da media\n"
      ],
      "metadata": {
        "id": "YenVC8OI1okq"
      }
    },
    {
      "cell_type": "code",
      "source": [
        "medi = int(input(\"Digite o valor da media1: \"))"
      ],
      "metadata": {
        "colab": {
          "base_uri": "https://localhost:8080/"
        },
        "id": "qnmO71Ka1xBT",
        "outputId": "81e9ebf7-d97e-4116-f144-fe3f168b62af"
      },
      "execution_count": null,
      "outputs": [
        {
          "name": "stdout",
          "output_type": "stream",
          "text": [
            "Digite o valor da media1: 7\n"
          ]
        }
      ]
    },
    {
      "cell_type": "code",
      "source": [
        "medi2 = int(input(\"Digite o valor da media2: \"))"
      ],
      "metadata": {
        "colab": {
          "base_uri": "https://localhost:8080/"
        },
        "id": "N1c9vaZp2G_D",
        "outputId": "170c105f-6506-4a4c-815e-79c8d21cea0f"
      },
      "execution_count": null,
      "outputs": [
        {
          "name": "stdout",
          "output_type": "stream",
          "text": [
            "Digite o valor da media2: 8\n"
          ]
        }
      ]
    },
    {
      "cell_type": "code",
      "source": [
        "resul = (medi + medi2)/2"
      ],
      "metadata": {
        "id": "VyINnVHA2Ow0"
      },
      "execution_count": null,
      "outputs": []
    },
    {
      "cell_type": "code",
      "source": [
        "print(f\"O valor da mdeia é: {resul}\")"
      ],
      "metadata": {
        "colab": {
          "base_uri": "https://localhost:8080/"
        },
        "id": "Rq9tVTNh2f4r",
        "outputId": "a9bb34ef-5555-4160-b17c-fce85ec5903b"
      },
      "execution_count": null,
      "outputs": [
        {
          "output_type": "stream",
          "name": "stdout",
          "text": [
            "O valor da mdeia é: 7.5\n"
          ]
        }
      ]
    },
    {
      "cell_type": "markdown",
      "source": [
        "## conversao da moeda"
      ],
      "metadata": {
        "id": "gRtAE4aC2xGz"
      }
    },
    {
      "cell_type": "code",
      "source": [
        "real = int(input(\"Digite o valor da real: \"))"
      ],
      "metadata": {
        "colab": {
          "base_uri": "https://localhost:8080/"
        },
        "id": "nNwCH4P327pr",
        "outputId": "ced9a4b1-2207-4edc-9873-b78003a6d753"
      },
      "execution_count": null,
      "outputs": [
        {
          "name": "stdout",
          "output_type": "stream",
          "text": [
            "Digite o valor da real: 100\n"
          ]
        }
      ]
    },
    {
      "cell_type": "code",
      "source": [
        "dolar = 5.73"
      ],
      "metadata": {
        "id": "WYc95Cy03RNz"
      },
      "execution_count": null,
      "outputs": []
    },
    {
      "cell_type": "code",
      "source": [
        "cover = real/dolar"
      ],
      "metadata": {
        "id": "FmDCfLAL3VsU"
      },
      "execution_count": null,
      "outputs": []
    },
    {
      "cell_type": "code",
      "source": [
        "print(f\"O valor dacoversão é: {cover}\")"
      ],
      "metadata": {
        "colab": {
          "base_uri": "https://localhost:8080/"
        },
        "id": "J2a9VjGc3dQU",
        "outputId": "bb414562-f9b7-4792-ac2c-e7383d3cdb93"
      },
      "execution_count": null,
      "outputs": [
        {
          "output_type": "stream",
          "name": "stdout",
          "text": [
            "O valor dacoversão é: 17.452006980802793\n"
          ]
        }
      ]
    },
    {
      "cell_type": "markdown",
      "source": [
        "# calculo de comissao\n"
      ],
      "metadata": {
        "id": "-fMi783o3qIL"
      }
    },
    {
      "cell_type": "code",
      "source": [
        "valor = float(input(\"Digite o valor do produto: \"))"
      ],
      "metadata": {
        "colab": {
          "base_uri": "https://localhost:8080/"
        },
        "id": "unir6DPc35M6",
        "outputId": "edd4d319-bd95-48ee-de11-f07aeb0a1afc"
      },
      "execution_count": null,
      "outputs": [
        {
          "name": "stdout",
          "output_type": "stream",
          "text": [
            "Digite o valor do produto: 20\n"
          ]
        }
      ]
    },
    {
      "cell_type": "code",
      "source": [
        "quant = int(input(\"Digite a quantidade de vendas: \"))"
      ],
      "metadata": {
        "colab": {
          "base_uri": "https://localhost:8080/"
        },
        "id": "viccypTG3uc8",
        "outputId": "94d4086e-091a-4624-8001-86b342c5b717"
      },
      "execution_count": null,
      "outputs": [
        {
          "name": "stdout",
          "output_type": "stream",
          "text": [
            "Digite a quantidade de vendas: 5\n"
          ]
        }
      ]
    },
    {
      "cell_type": "code",
      "source": [
        "resul = (valor * quant)*5/100"
      ],
      "metadata": {
        "id": "8MRO6pPf4Yf8"
      },
      "execution_count": null,
      "outputs": []
    },
    {
      "cell_type": "code",
      "source": [
        " print(f\"O valor da comissao é:{resul}\")"
      ],
      "metadata": {
        "colab": {
          "base_uri": "https://localhost:8080/"
        },
        "id": "wnZXFRtY4078",
        "outputId": "84153b9d-4d37-497b-db49-6ea7abf5ec06"
      },
      "execution_count": null,
      "outputs": [
        {
          "output_type": "stream",
          "name": "stdout",
          "text": [
            "O valor da comissao é:5.0\n"
          ]
        }
      ]
    },
    {
      "cell_type": "markdown",
      "source": [
        "# custo ao consumidor"
      ],
      "metadata": {
        "id": "FN59cycU_Yf2"
      }
    },
    {
      "cell_type": "code",
      "source": [
        "custofa = 25.000"
      ],
      "metadata": {
        "id": "ZzYe-EtH_iUv"
      },
      "execution_count": null,
      "outputs": []
    },
    {
      "cell_type": "code",
      "source": [
        "custoim = 45/100 * custofa"
      ],
      "metadata": {
        "id": "wVBcVg30_oD3"
      },
      "execution_count": null,
      "outputs": []
    },
    {
      "cell_type": "code",
      "source": [
        "custoimp = custoim + custofa"
      ],
      "metadata": {
        "id": "7ooMljN5BGDy"
      },
      "execution_count": null,
      "outputs": []
    },
    {
      "cell_type": "code",
      "source": [
        "custodi = 25/100 * custoimp"
      ],
      "metadata": {
        "id": "vAvqHB7w_wq3"
      },
      "execution_count": null,
      "outputs": []
    },
    {
      "cell_type": "code",
      "source": [
        "paracun = custoimp + custodi"
      ],
      "metadata": {
        "id": "qifqRLIgACu_"
      },
      "execution_count": null,
      "outputs": []
    },
    {
      "cell_type": "code",
      "source": [
        "print(f\"O valor para o consumidor é: {paracun}\")"
      ],
      "metadata": {
        "colab": {
          "base_uri": "https://localhost:8080/"
        },
        "id": "9yTdYhCWAPMf",
        "outputId": "ac07e426-28cb-4b47-c8a9-96f1ca7a79d8"
      },
      "execution_count": null,
      "outputs": [
        {
          "output_type": "stream",
          "name": "stdout",
          "text": [
            "O valor para o consumidor é: 45.3125\n"
          ]
        }
      ]
    },
    {
      "cell_type": "markdown",
      "source": [
        "# coversao dos minutos e horas"
      ],
      "metadata": {
        "id": "QkzoFLG-EicA"
      }
    },
    {
      "cell_type": "code",
      "source": [
        " valorh = float(input(\"Digite o valor da hora: \"))"
      ],
      "metadata": {
        "colab": {
          "base_uri": "https://localhost:8080/"
        },
        "id": "FIm6GyBJEquK",
        "outputId": "85ba578c-9a00-4ec1-b8ac-a17e42af89ef"
      },
      "execution_count": null,
      "outputs": [
        {
          "name": "stdout",
          "output_type": "stream",
          "text": [
            "Digite o valor da hora: 4\n"
          ]
        }
      ]
    },
    {
      "cell_type": "code",
      "source": [
        " valorm = float(input(\"Digite o valor dos minutos: \"))"
      ],
      "metadata": {
        "colab": {
          "base_uri": "https://localhost:8080/"
        },
        "id": "kuAHKjPaE_JJ",
        "outputId": "3e8cbea3-a3fa-4e6f-d1c4-2ced7fa50af8"
      },
      "execution_count": null,
      "outputs": [
        {
          "name": "stdout",
          "output_type": "stream",
          "text": [
            "Digite o valor dos minutos: 23\n"
          ]
        }
      ]
    },
    {
      "cell_type": "code",
      "source": [
        "conver = valorm/60 + valorh"
      ],
      "metadata": {
        "id": "IXg5HSkXFFsA"
      },
      "execution_count": null,
      "outputs": []
    },
    {
      "cell_type": "code",
      "source": [
        "print(f\" O valor é: {conver}\")"
      ],
      "metadata": {
        "colab": {
          "base_uri": "https://localhost:8080/"
        },
        "id": "OEmEX7EJFO7A",
        "outputId": "dbcf4a7d-1468-40c9-90da-e8719929f014"
      },
      "execution_count": null,
      "outputs": [
        {
          "output_type": "stream",
          "name": "stdout",
          "text": [
            " O valor é: 4.383333333333334\n"
          ]
        }
      ]
    },
    {
      "cell_type": "markdown",
      "source": [
        "# hora extra"
      ],
      "metadata": {
        "id": "YgxryGCUkvll"
      }
    },
    {
      "cell_type": "code",
      "source": [
        "hora = float(input(\"Digite a hora: \"))"
      ],
      "metadata": {
        "colab": {
          "base_uri": "https://localhost:8080/"
        },
        "id": "GCcdTPn8k0KK",
        "outputId": "8f704c7f-f200-40b8-f50b-0bbcb112d3a8"
      },
      "execution_count": null,
      "outputs": [
        {
          "name": "stdout",
          "output_type": "stream",
          "text": [
            "Digite a hora: 15\n"
          ]
        }
      ]
    },
    {
      "cell_type": "code",
      "source": [
        "minu = float(input(\"Digite os minutos: \"))"
      ],
      "metadata": {
        "colab": {
          "base_uri": "https://localhost:8080/"
        },
        "id": "yfBKCa_lkyS9",
        "outputId": "a76d2a00-005c-46fd-d606-36e67bde51b5"
      },
      "execution_count": null,
      "outputs": [
        {
          "name": "stdout",
          "output_type": "stream",
          "text": [
            "Digite os minutos: 45\n"
          ]
        }
      ]
    },
    {
      "cell_type": "code",
      "source": [
        "gh = 25"
      ],
      "metadata": {
        "id": "APZ4K4R7lKx2"
      },
      "execution_count": null,
      "outputs": []
    },
    {
      "cell_type": "code",
      "source": [
        "horas = 45/60+15"
      ],
      "metadata": {
        "id": "PYc5b8Z4lOJW"
      },
      "execution_count": null,
      "outputs": []
    },
    {
      "cell_type": "code",
      "source": [
        "gha= horas * 25"
      ],
      "metadata": {
        "id": "6TeKRLfRlc-O"
      },
      "execution_count": null,
      "outputs": []
    },
    {
      "cell_type": "code",
      "source": [
        "resul = gha*(70/100)"
      ],
      "metadata": {
        "id": "b81bQg_VllY9"
      },
      "execution_count": null,
      "outputs": []
    },
    {
      "cell_type": "code",
      "source": [
        "res = resul+gha"
      ],
      "metadata": {
        "id": "SzjaGQ53mDXP"
      },
      "execution_count": null,
      "outputs": []
    },
    {
      "cell_type": "code",
      "source": [
        "print(f\"A hora extra é: {res}\")"
      ],
      "metadata": {
        "colab": {
          "base_uri": "https://localhost:8080/"
        },
        "id": "THL8uh7Clqc-",
        "outputId": "bcc1ee72-bc1d-4fcc-95fe-8c3e0ce64c97"
      },
      "execution_count": null,
      "outputs": [
        {
          "output_type": "stream",
          "name": "stdout",
          "text": [
            "A hora extra é: 669.375\n"
          ]
        }
      ]
    }
  ]
}