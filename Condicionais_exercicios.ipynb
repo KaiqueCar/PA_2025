{
  "nbformat": 4,
  "nbformat_minor": 0,
  "metadata": {
    "colab": {
      "provenance": [],
      "authorship_tag": "ABX9TyPMjIw1CItJiW/gP7LyRZ4A",
      "include_colab_link": true
    },
    "kernelspec": {
      "name": "python3",
      "display_name": "Python 3"
    },
    "language_info": {
      "name": "python"
    }
  },
  "cells": [
    {
      "cell_type": "markdown",
      "metadata": {
        "id": "view-in-github",
        "colab_type": "text"
      },
      "source": [
        "<a href=\"https://colab.research.google.com/github/KaiqueCar/PA_2025/blob/main/Condicionais_exercicios.ipynb\" target=\"_parent\"><img src=\"https://colab.research.google.com/assets/colab-badge.svg\" alt=\"Open In Colab\"/></a>"
      ]
    },
    {
      "cell_type": "code",
      "execution_count": null,
      "metadata": {
        "id": "Kq9bhVfPDHst"
      },
      "outputs": [],
      "source": []
    },
    {
      "cell_type": "markdown",
      "source": [
        "tipos de condiciomais"
      ],
      "metadata": {
        "id": "m82c1SRxDkqb"
      }
    },
    {
      "cell_type": "markdown",
      "source": [
        "Condicionais simples: Possuei apenas duas possibilidades (True or False)"
      ],
      "metadata": {
        "id": "p_gqNw29DNqM"
      }
    },
    {
      "cell_type": "markdown",
      "source": [
        "**negrito** CONDICIONAL COMPOSTO (POSSUI MAIS DE DUAS POSSIBILIDADES)"
      ],
      "metadata": {
        "id": "hSOvKartONEz"
      }
    },
    {
      "cell_type": "code",
      "source": [
        "nota = float(input(\"Digite o valor da nota\"))\n",
        "if (nota>=0 and nota<=10):\n",
        " print(\"Nota 1 cmputada\")\n",
        " nota = nota1\n",
        "else:\n",
        "  print(\"Essa nota não foi registrada, pois não estava entre 0 e 10\")\n",
        "  print(\"Execute novamente o programa!\")\n",
        "\n",
        "  nota1 = float(input(\"Digite o valor da nota 1:\"))\n",
        "\n",
        "nota = float(input(\"Digite o valor da nota\"))\n",
        "if (nota>=0 and nota<=10):\n",
        " print(\"Nota 1 cmputada\")\n",
        " nota = nota2\n",
        "else:\n",
        "  print(\"Essa nota não foi registrada, pois não estava entre 0 e 10\")\n",
        "  print(\"Execute novamente o programa!\")\n",
        "  nota2 = float(input(\"Digite o valor da nota 2:\"))\n",
        "\n",
        "nota = float(input(\"Digite o valor da nota\"))\n",
        "if (nota>=0 and nota<=10):\n",
        " print(\"Nota 1 cmputada\")\n",
        " nota = nota3\n",
        "else:\n",
        "  print(\"Essa nota não foi registrada, pois não estava entre 0 e 10\")\n",
        "  print(\"Execute novamente o programa!\")\n",
        "  nota3 = float(input(\"Digite o valor da nota 3:\"))\n",
        "\n",
        "  media = (nota1+nota2+nota3)/3\n",
        "print(media)\n",
        "\n"
      ],
      "metadata": {
        "id": "4v1mC7flNzg4"
      },
      "execution_count": null,
      "outputs": []
    },
    {
      "cell_type": "code",
      "source": [
        "\n",
        "if (media<=5):\n",
        "  print(\"Sua menção final é I\")\n",
        "elif(media>=5) and (media<6.5):\n",
        "  print(\"Sua menção final é R\")\n",
        "elif(media>=6.5) and (media<=8):\n",
        "  print(\"Sua menção é B\")\n",
        "else:\n",
        "  print(\"Sua menção é MB\")"
      ],
      "metadata": {
        "id": "8QpgTgxGOo8V"
      },
      "execution_count": null,
      "outputs": []
    },
    {
      "cell_type": "markdown",
      "source": [
        "**negrito** CONDICIONAL ALINHADO QUANDO O PRIMEIRO IF SÓ É EXECUTADO QUANDO O PRIMEIRO"
      ],
      "metadata": {
        "id": "w_AEkBqzUi8M"
      }
    },
    {
      "cell_type": "code",
      "source": [
        "usuariocer = \"cintia\"\n",
        "senhacer = \"12345\"\n",
        "\n",
        "usuario = input(\"Digite o seu usuario:\")\n",
        "senha = input(\"Digite sua senha:\")\n",
        "\n",
        "if(usuario ==usuariocer):\n",
        "  if(senha ==senhacer):\n",
        "\n",
        "\n",
        "  else:\n",
        "    print(\"senha invalida!\")\n",
        "else:\n",
        "  print(\"Usuario incorreto\")\n",
        "\n"
      ],
      "metadata": {
        "id": "ZPg-kVkcSjsW"
      },
      "execution_count": null,
      "outputs": []
    },
    {
      "cell_type": "code",
      "source": [],
      "metadata": {
        "id": "n1sNcEAoZfIx"
      },
      "execution_count": null,
      "outputs": []
    },
    {
      "cell_type": "markdown",
      "source": [
        "# LISTA DE EXERCICIOS"
      ],
      "metadata": {
        "id": "T1cCtgb8ZdV8"
      }
    },
    {
      "cell_type": "code",
      "source": [
        "lado1 = float(input(\"Digite o lado 1:\"))\n",
        "lado2 = float(input(\"Digite o lado 2:\"))\n",
        "lado3 = float(input(\"Digite o lado 3:\"))\n",
        "if(lado1+lado2>lado3 and lado1+lado3>lado2 and lado2+lado3>lado1):\n",
        "  print(\"É um triangulo\")\n",
        "  if(lado1 == lado2 == lado3):\n",
        "    print(\"É um equilatero\")\n",
        "\n",
        "  if(lado1 != lado2 != lado3 != lado1):\n",
        "    print(\"É um escaleno\")\n",
        "\n",
        "  if(lado1 == lado2 != lado3 or lado1 == lado3 !=lado2 or lado2 == lado3 != lado1):\n",
        "    print(\"É um isociles\")\n",
        "else:print(\"Isso não é um triangulo\")\n",
        "\n"
      ],
      "metadata": {
        "id": "5VgjO1g9Zn4X"
      },
      "execution_count": null,
      "outputs": []
    },
    {
      "cell_type": "markdown",
      "source": [
        "**negrito**EXERCICIO 2\n"
      ],
      "metadata": {
        "id": "M6cTG4GkD2j6"
      }
    },
    {
      "cell_type": "code",
      "source": [
        "valor = float(input(\"Digite o valor: \" ))\n",
        "resul = (valor % 2)\n",
        "if(resul == 0):\n",
        " print(\"É par\")\n",
        "else: print(\"É impar\")"
      ],
      "metadata": {
        "id": "ftJRQj3qD7qj"
      },
      "execution_count": null,
      "outputs": []
    },
    {
      "cell_type": "markdown",
      "source": [
        "EXERCICIO *3* **negrito**"
      ],
      "metadata": {
        "id": "2Wpy8KNlFyUy"
      }
    },
    {
      "cell_type": "code",
      "source": [
        "peso = float(input(\"Digite seu peso: \" ))\n",
        "altura = float(input(\"Digite sua altura: \" ))\n",
        "imc = (peso/altura**2)\n",
        "print(imc)\n",
        "\n",
        "if(imc <18.5):\n",
        "  print(\"Abaixo do peso\")\n",
        "elif(imc >=18.5 and imc <=24.9):\n",
        "  print(\"Peso normal\")\n",
        "elif(imc >= 25 and imc <= 29.9):\n",
        "  print(\"Sobre peso\")\n",
        "elif(imc >=30 and imc <=34.9):\n",
        "  print(\"Obesidade grau 1\")\n",
        "elif(imc>= 35 and imc<= 39.9):\n",
        "  print(\"Obesidade grau 2\")\n",
        "else:print(\"Obesidade grau 3\")"
      ],
      "metadata": {
        "id": "i2l6hIXCF1_a"
      },
      "execution_count": null,
      "outputs": []
    },
    {
      "cell_type": "markdown",
      "source": [
        "**negrito**EXERCICIO 4"
      ],
      "metadata": {
        "id": "dkUDPvz-MKF6"
      }
    },
    {
      "cell_type": "code",
      "source": [
        "logincer = input(\"Digite seu login: \")\n",
        "senhacer = float(input(\"Digite sua senha: \"))\n",
        "login = ('kaique')\n",
        "senha = (1234)\n",
        "if(login == logincer):\n",
        "  if(senha == senhacer):\n",
        "    print(\"logado com sucesso!\")\n",
        "else:print(\"Usuario ou senha incorretos\")"
      ],
      "metadata": {
        "id": "o6GjwMukNySB"
      },
      "execution_count": null,
      "outputs": []
    },
    {
      "cell_type": "markdown",
      "source": [
        "**negrito**EXERCICIO 5\n"
      ],
      "metadata": {
        "id": "A3C_njNlR9RQ"
      }
    },
    {
      "cell_type": "code",
      "source": [
        "saldo = -50\n",
        "limite = 500\n",
        "logincer = input(\"Digite seu login: \")\n",
        "senhacer = float(input(\"Digite sua senha: \"))\n",
        "login = ('kaique')\n",
        "senha = (1234)\n",
        "if(login == logincer and senha == senhacer):\n",
        "  if(senha == senhacer):\n",
        "    print(\"logado com sucesso!\")\n",
        "\n",
        "\n",
        "\n",
        "  açao = int(input(\"\\nDigite 1 Para 'Sacar' \\nDigite 2 Para 'Depositar' \\nDigite 3 Para 'Ver saldo'\"))\n",
        "  if(açao == 1):\n",
        "   sacar = float(input(\"Digite o quanto quer sacar: \"))\n",
        "   if(sacar>=1 and sacar<=500):\n",
        "    print(\"Saque aprovado!\")\n",
        "    saldofinal = (saldo-sacar)\n",
        "    print(\"Seu saldo final é:\", saldofinal)\n",
        "   else:\n",
        "    print(\"Saque negado!\")\n",
        "\n",
        "\n",
        "\n",
        "  if(açao == 2):\n",
        "   depositar = float(input(\"Quanto quer depositar?: \"))\n",
        "   deposito = (saldo + depositar)\n",
        "   print(\"Seu saldo final é:\", deposito)\n",
        "\n",
        "\n",
        "  if(açao == 3):\n",
        "\n",
        "    print(\"Seu saldo é:\" , saldo)\n",
        "\n",
        "\n",
        "\n",
        "\n",
        "else:print(\"Senha ou login incorretos\")\n",
        "\n",
        "\n",
        "\n",
        "\n",
        "\n",
        "\n",
        "\n",
        "\n",
        "\n",
        "\n",
        "\n",
        "\n"
      ],
      "metadata": {
        "colab": {
          "base_uri": "https://localhost:8080/"
        },
        "id": "rSZZazGSSBHJ",
        "outputId": "e85141be-3eb9-4ee5-a1f0-6ba69cc7769c"
      },
      "execution_count": 59,
      "outputs": [
        {
          "output_type": "stream",
          "name": "stdout",
          "text": [
            "Digite seu login: kaique\n",
            "Digite sua senha: 1234\n",
            "logado com sucesso!\n",
            "\n",
            "Digite 1 Para 'Sacar' \n",
            "Digite 2 Para 'Depositar' \n",
            "Digite 3 Para 'Ver saldo'3\n",
            "Seu saldo é: -50\n"
          ]
        }
      ]
    },
    {
      "cell_type": "markdown",
      "source": [
        "**negrito**EXERCICO 6\n"
      ],
      "metadata": {
        "id": "L2KunzmhrLl-"
      }
    },
    {
      "cell_type": "code",
      "source": [
        "altura = float(input(\"Digite sua altura: \"))\n",
        "idade = int(input(\"Digite seu idade: \"))\n",
        "\n",
        "if(altura>=1.75 and idade>=18):\n",
        "  print(\"Vai participar\")\n",
        "else:print(\"Não vai participar\")"
      ],
      "metadata": {
        "id": "Ua5nbKMLrO8V"
      },
      "execution_count": null,
      "outputs": []
    },
    {
      "cell_type": "markdown",
      "source": [
        "**negrito**EXERCICIO 7"
      ],
      "metadata": {
        "id": "dooE2Lh4sX4e"
      }
    },
    {
      "cell_type": "code",
      "source": [
        "peso = float(input(\"Digite seu peso: \"))\n",
        "if(peso>=46.27 and peso<=47.62):\n",
        "  print(\"Palha ligeiro\")\n",
        "elif(peso>=47.63 and peso<=48.98):\n",
        "  print(\"Palha\")\n",
        "elif(peso>=48.99 and peso<=50.34):\n",
        "  print(\"Mosca ligeiro\")\n",
        "elif(peso>=50.35 and peso<=51.70):\n",
        "  print(\"Mosca\")\n",
        "elif(peso>=51.71 and peso<=53.51):\n",
        "  print(\"Super Mosca\")\n",
        "elif(peso>=53.52 and peso<=55.33):\n",
        "  print(\"Super Galo\")\n",
        "elif(peso>=55.34 and peso<=57.14):\n",
        "  print(\"Pena\")\n",
        "elif(peso>=57.15 and peso<=58.96):\n",
        "  print(\"Super Pena\")\n",
        "elif(peso>=58.97 and peso<=61.22):\n",
        "  print(\"Leve\")\n",
        "elif(peso>= 61.23 and peso <=63.4):\n",
        "  print(\"Super Leve\")\n",
        "elif(peso>=63.5 and peso<=66.67 ):\n",
        "  print(\"Meio-Médio\")\n",
        "elif(peso>=66.68 and peso<=69.84):\n",
        "  print(\"Super Meio-Médio\")\n",
        "elif(peso>=69.85 and peso<=73.02):\n",
        "  print(\"Médio\")\n",
        "elif(peso>=73.03 and peso<=76.01):\n",
        "  print(\"Super Médio\")\n",
        "elif(peso>=76.02 and peso<=79.37):\n",
        "  print(\"Meio-Pesado\")\n",
        "elif(peso>=79.38 and peso<=90.71):\n",
        "  print(\"Cruzador\")\n",
        "elif(peso>=90.72):\n",
        "  print(\"Pesado\")"
      ],
      "metadata": {
        "id": "IsNIersisbc9"
      },
      "execution_count": null,
      "outputs": []
    },
    {
      "cell_type": "markdown",
      "source": [
        "**negrito**EXERCICIO 8"
      ],
      "metadata": {
        "id": "YpY2uXTFAzna"
      }
    },
    {
      "cell_type": "code",
      "source": [
        "valor = float(input(\"Digite o valor\"))\n",
        "\n",
        "if(valor >=1 and valor <= 1.903,98):\n",
        "  print(\"Isento de Impostos\")\n",
        "elif(valor>=1.903,99 and valor<=2.826,65):\n",
        "  print(\"Vai pagar 7,5% de Imposto de Renda\")\n",
        "elif(valor>=2.826,66 and valor<=3.751,5):\n",
        "   print(\"Vai pagar 15% de Imposto de Renda\")\n",
        "elif(valor>=3.751,6 and valor<=4.664,68):\n",
        "   print(\"Vai pagar 22,5% de Imposto de Renda\")\n",
        "elif(valor>=4.664,68):\n",
        "   print(\"Vai pagar 27,5% de Imposto de Renda\")"
      ],
      "metadata": {
        "colab": {
          "base_uri": "https://localhost:8080/"
        },
        "id": "3l0aUybsA4Yy",
        "outputId": "e28c6148-052f-4481-e982-45381accb4e3"
      },
      "execution_count": 63,
      "outputs": [
        {
          "output_type": "stream",
          "name": "stdout",
          "text": [
            "Digite o valor500\n",
            "Isento de Impostos\n"
          ]
        }
      ]
    },
    {
      "cell_type": "markdown",
      "source": [
        "**negrito**EXERCICIO 9"
      ],
      "metadata": {
        "id": "9CSi2n1LL_eT"
      }
    },
    {
      "cell_type": "code",
      "source": [
        "salario = float(input(\"Digite o valor do seu salário: \"))\n",
        "\n",
        "if(salario <=1500):\n",
        "  cal=salario*20/100+salario\n",
        "  print(\"Seu salario é:\", cal )\n",
        "  print(\"com o aumento dde 20%\")\n",
        "if(salario >1500 and salario <=3000):\n",
        "  cal1=salario*15/100+salario\n",
        "  print(\"Seu salario é:\", cal1 )\n",
        "  print(\"com o aumento dde 15%\")\n",
        "if(salario>300):\n",
        "  cal2=salario*10/100+salario\n",
        "  print(\"Seu salario é:\", cal2 )\n",
        "  print(\"com o aumento dde 10%\")\n",
        "\n"
      ],
      "metadata": {
        "colab": {
          "base_uri": "https://localhost:8080/"
        },
        "id": "-Y-kbBg0MDCp",
        "outputId": "039322c2-c143-4129-abd1-590b1d256f48"
      },
      "execution_count": 61,
      "outputs": [
        {
          "output_type": "stream",
          "name": "stdout",
          "text": [
            "Digite o valor do seu salário: 5\n",
            "Seu salario é: 6.0\n",
            "com o aumento dde 20%\n"
          ]
        }
      ]
    },
    {
      "cell_type": "markdown",
      "source": [
        "**negrito**EXERCICIO 10"
      ],
      "metadata": {
        "id": "mzMsoCDXWJWB"
      }
    },
    {
      "cell_type": "code",
      "source": [
        "kg = float(input(\"Digite o valor do quilo: \"))\n",
        "km = float(input(\"Digite o valor do km rodado: \"))\n",
        "\n",
        "if(kg>=1 and kg<=2 ):\n",
        "  frete=(km/100*5)\n",
        "  print(\"O valor do frete é R$\", frete)\n",
        "if(kg>=2 and kg<=5 ):\n",
        "  frete1=(km/100*8)\n",
        "  print(\"O valor do frete é R$\", frete1)\n",
        "if(kg>=5 ):\n",
        "  frete2=(km/100*10)\n",
        "  print(\"O valor do frete é R$\", frete2)\n"
      ],
      "metadata": {
        "colab": {
          "base_uri": "https://localhost:8080/"
        },
        "id": "JGaaB2zCWMkA",
        "outputId": "4db070c1-1ce7-4628-dd07-e8f3b6b6ac3a"
      },
      "execution_count": 62,
      "outputs": [
        {
          "output_type": "stream",
          "name": "stdout",
          "text": [
            "Digite o valor do quilo: 5\n",
            "Digite o valor do km rodado: 5\n",
            "O valor do frete é R$ 0.4\n",
            "O valor do frete é R$ 0.5\n"
          ]
        }
      ]
    }
  ]
}