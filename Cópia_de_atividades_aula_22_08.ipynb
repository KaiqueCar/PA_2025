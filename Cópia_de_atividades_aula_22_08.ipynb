{
  "nbformat": 4,
  "nbformat_minor": 0,
  "metadata": {
    "colab": {
      "provenance": [],
      "include_colab_link": true
    },
    "kernelspec": {
      "name": "python3",
      "display_name": "Python 3"
    },
    "language_info": {
      "name": "python"
    }
  },
  "cells": [
    {
      "cell_type": "markdown",
      "metadata": {
        "id": "view-in-github",
        "colab_type": "text"
      },
      "source": [
        "<a href=\"https://colab.research.google.com/github/KaiqueCar/PA_2025/blob/main/C%C3%B3pia_de_atividades_aula_22_08.ipynb\" target=\"_parent\"><img src=\"https://colab.research.google.com/assets/colab-badge.svg\" alt=\"Open In Colab\"/></a>"
      ]
    },
    {
      "cell_type": "markdown",
      "source": [
        "**Exercícios com for, while, listas, strings e dicionários**"
      ],
      "metadata": {
        "id": "5KtSL9tuj-zo"
      }
    },
    {
      "cell_type": "markdown",
      "source": [
        "1) Soma dos números de uma lista\n",
        "\n",
        "Dada a lista numeros = [3, 7, 2, 8, 10], use um for para calcular a soma de todos os elementos."
      ],
      "metadata": {
        "id": "ZZZicFxfkEEg"
      }
    },
    {
      "cell_type": "code",
      "source": [
        "nume=[3,7,2,8,10]\n",
        "soma=0\n",
        "for i in nume:\n",
        "  soma=soma+i\n",
        "print(soma)\n",
        "\n",
        "\n",
        "\n",
        "\n"
      ],
      "metadata": {
        "colab": {
          "base_uri": "https://localhost:8080/"
        },
        "id": "UA1llJynWHb7",
        "outputId": "5c1ff764-5b8b-415c-f8f3-aa752f18b96d"
      },
      "execution_count": null,
      "outputs": [
        {
          "output_type": "stream",
          "name": "stdout",
          "text": [
            "30\n"
          ]
        }
      ]
    },
    {
      "cell_type": "markdown",
      "source": [
        "2) Contagem de vogais em uma string\n",
        "\n",
        "Peça uma palavra ao usuário e use um for para contar quantas vogais (a, e, i, o, u) existem."
      ],
      "metadata": {
        "id": "Xw8gph7LkL6R"
      }
    },
    {
      "cell_type": "code",
      "source": [
        "\n",
        "palavra = input(\"Digite uma palavra: \")\n",
        "\n",
        "\n",
        "contador_vogais = 0\n",
        "\n",
        "\n",
        "vogais = \"aeiouAEIOU\"\n",
        "\n",
        "\n",
        "for letra in palavra:\n",
        "    if letra in vogais:\n",
        "        contador_vogais += 1\n",
        "\n",
        "\n",
        "print(f\"A palavra '{palavra}' tem {contador_vogais} vogal(is).\")\n"
      ],
      "metadata": {
        "colab": {
          "base_uri": "https://localhost:8080/"
        },
        "id": "k_DE8VWqP5Qv",
        "outputId": "4b2de976-fb1c-461b-cd00-09503aadb071"
      },
      "execution_count": 2,
      "outputs": [
        {
          "output_type": "stream",
          "name": "stdout",
          "text": [
            "Digite uma palavra: iop\n",
            "A palavra 'iop' tem 2 vogal(is).\n"
          ]
        }
      ]
    },
    {
      "cell_type": "markdown",
      "source": [],
      "metadata": {
        "id": "irD2xL3xkSDN"
      }
    },
    {
      "cell_type": "markdown",
      "source": [
        "3) Inverter lista usando while\n",
        "\n",
        "Dada a lista nomes = [\"Ana\", \"João\", \"Carlos\", \"Maria\"], use um while para inverter a ordem dos elementos (sem usar reverse() ou slicing)."
      ],
      "metadata": {
        "id": "YfW4Aw8ckZw-"
      }
    },
    {
      "cell_type": "code",
      "source": [
        "nomes = [\"Ana\", \"João\", \"Carlos\", \"Maria\"]\n",
        "i=len(nomes)\n",
        "while 1<=i:\n",
        "  i=i-1\n",
        "  print(nomes[i])\n",
        "\n",
        "\n",
        "\n",
        "\n",
        "\n"
      ],
      "metadata": {
        "colab": {
          "base_uri": "https://localhost:8080/"
        },
        "id": "X2nzr4xaa3M-",
        "outputId": "4e656252-e7c3-4d32-b992-0389a8f23b47"
      },
      "execution_count": null,
      "outputs": [
        {
          "output_type": "stream",
          "name": "stdout",
          "text": [
            "Maria\n",
            "Carlos\n",
            "João\n",
            "Ana\n"
          ]
        }
      ]
    },
    {
      "cell_type": "markdown",
      "source": [
        "4) Maior número em uma lista\n",
        "\n",
        "Escreva um programa que percorra uma lista de inteiros e encontre o maior valor."
      ],
      "metadata": {
        "id": "cvRuv0PxkkYi"
      }
    },
    {
      "cell_type": "code",
      "source": [
        "\n",
        "numeros = [10, 45, 3, 99, 23, 87, 15]\n",
        "\n",
        "\n",
        "if len(numeros) > 0:\n",
        "    maior = numeros[0]\n",
        "    for numero in numeros:\n",
        "        if numero > maior:\n",
        "            maior = numero\n",
        "    print(f\"O maior número da lista é: {maior}\")\n",
        "else:\n",
        "    print(\"A lista está vazia.\")\n",
        "\n",
        "\n",
        "\n"
      ],
      "metadata": {
        "colab": {
          "base_uri": "https://localhost:8080/"
        },
        "id": "Jq92RR77rF63",
        "outputId": "72d619d8-dc20-4361-c8bf-47b15e0adfb5"
      },
      "execution_count": null,
      "outputs": [
        {
          "output_type": "stream",
          "name": "stdout",
          "text": [
            "O maior número da lista é: 99\n"
          ]
        }
      ]
    },
    {
      "cell_type": "markdown",
      "source": [
        "5) Remover elementos repetidos de uma lista\n",
        "\n",
        "Usando um for, percorra a lista valores = [1, 2, 2, 3, 4, 4, 5] e crie uma nova lista apenas com elementos únicos."
      ],
      "metadata": {
        "id": "xV6pmOVCkuCm"
      }
    },
    {
      "cell_type": "code",
      "source": [
        "\n",
        "valores = [1, 2, 2, 3, 4, 4, 5]\n",
        "\n",
        "\n",
        "unicos = []\n",
        "\n",
        "\n",
        "for valor in valores:\n",
        "    if valor not in unicos:\n",
        "        unicos.append(valor)\n",
        "\n",
        "\n",
        "print(f\"Lista sem elementos repetidos: {unicos}\")\n"
      ],
      "metadata": {
        "id": "1V-nsRfGYLlm",
        "colab": {
          "base_uri": "https://localhost:8080/"
        },
        "outputId": "e516d76d-3830-470c-f1bf-6f1a3d56c520"
      },
      "execution_count": 4,
      "outputs": [
        {
          "output_type": "stream",
          "name": "stdout",
          "text": [
            "Lista sem elementos repetidos: [1, 2, 3, 4, 5]\n"
          ]
        }
      ]
    },
    {
      "cell_type": "markdown",
      "source": [
        "6) Verificar se palavra é palíndromo\n",
        "\n",
        "Peça uma palavra ao usuário e use while ou for para verificar se ela é igual de frente para trás (ex.: \"arara\")."
      ],
      "metadata": {
        "id": "_bHj-pkzk2TX"
      }
    },
    {
      "cell_type": "code",
      "source": [
        "palavra = input('Digite sua palvra')\n",
        "while  palavra==palavra[::-1]:\n",
        " palavra = input('Digite sua palvra')\n",
        " print('È uma palindroma')\n",
        "\n",
        "while palavra!=palavra[::-1]:\n",
        "\n",
        "  print(\"Não é uma palindroma\")\n",
        "  break\n"
      ],
      "metadata": {
        "colab": {
          "base_uri": "https://localhost:8080/"
        },
        "id": "FfbzzEDQZmlm",
        "outputId": "cc6c1c19-3299-4bbf-d45c-b4f6e9eed707"
      },
      "execution_count": null,
      "outputs": [
        {
          "output_type": "stream",
          "name": "stdout",
          "text": [
            "Digite sua palvraara\n",
            "Digite sua palvraara\n",
            "È uma palindroma\n",
            "Digite sua palvraara\n",
            "È uma palindroma\n",
            "Digite sua palvraara\n",
            "È uma palindroma\n",
            "Digite sua palvraborracha\n",
            "È uma palindroma\n",
            "Não é uma palindroma\n"
          ]
        }
      ]
    },
    {
      "cell_type": "markdown",
      "source": [
        "7 Contagem regressiva com while\n",
        "\n",
        "Peça ao usuário um número e faça uma contagem regressiva até 0."
      ],
      "metadata": {
        "id": "1PeOPJ3ClC0c"
      }
    },
    {
      "cell_type": "code",
      "source": [
        "numero = int(input('Digite seu número'))\n",
        "while numero>=0:\n",
        "  print(numero)\n",
        "  numero=numero-1\n"
      ],
      "metadata": {
        "colab": {
          "base_uri": "https://localhost:8080/"
        },
        "id": "FM3CVEvUdfck",
        "outputId": "151dfcf0-917b-48ed-dffa-e4b548809fcf"
      },
      "execution_count": 1,
      "outputs": [
        {
          "output_type": "stream",
          "name": "stdout",
          "text": [
            "Digite seu número10\n",
            "10\n",
            "9\n",
            "8\n",
            "7\n",
            "6\n",
            "5\n",
            "4\n",
            "3\n",
            "2\n",
            "1\n",
            "0\n"
          ]
        }
      ]
    },
    {
      "cell_type": "markdown",
      "source": [
        "8) Percorrendo um dicionário de notas\n",
        "\n",
        "Dado o dicionário notas = {\"Ana\": 8, \"Carlos\": 7, \"Maria\": 10}, use um for para exibir cada aluno com sua nota."
      ],
      "metadata": {
        "id": "wKkDTzwelK_f"
      }
    },
    {
      "cell_type": "code",
      "source": [
        "notas = {\"Ana\": 8, \"Carlos\": 7, \"Maria\": 10}\n",
        "for nota in notas:\n",
        "  print(nota,[notas])"
      ],
      "metadata": {
        "colab": {
          "base_uri": "https://localhost:8080/"
        },
        "id": "ypHjgKzCfCA1",
        "outputId": "957c52ef-2513-42fc-c1b1-f3feed80f98f"
      },
      "execution_count": null,
      "outputs": [
        {
          "output_type": "stream",
          "name": "stdout",
          "text": [
            "Ana [{'Ana': 8, 'Carlos': 7, 'Maria': 10}]\n",
            "Carlos [{'Ana': 8, 'Carlos': 7, 'Maria': 10}]\n",
            "Maria [{'Ana': 8, 'Carlos': 7, 'Maria': 10}]\n"
          ]
        }
      ]
    },
    {
      "cell_type": "markdown",
      "source": [
        "9)Filtrar números pares de uma lista\n",
        "\n",
        "Dada a lista numeros = [10, 21, 32, 43, 54], use um for para criar uma nova lista contendo apenas os pares."
      ],
      "metadata": {
        "id": "xrXKbCl7lUQg"
      }
    },
    {
      "cell_type": "code",
      "source": [
        "\n",
        "numeros = [10, 21, 32, 43, 54]\n",
        "\n",
        "\n",
        "pares = []\n",
        "\n",
        "\n",
        "for numero in numeros:\n",
        "    if numero % 2 == 0:\n",
        "        pares.append(numero)\n",
        "\n",
        "\n",
        "print(f\"Números pares: {pares}\")\n",
        "\n"
      ],
      "metadata": {
        "id": "1G0S-s-Zf4Q6"
      },
      "execution_count": null,
      "outputs": []
    },
    {
      "cell_type": "markdown",
      "source": [
        "10) Contador de palavras em uma frase\n",
        "\n",
        "Peça ao usuário uma frase, divida em palavras (split()) e use um dicionário para contar quantas vezes cada palavra aparece."
      ],
      "metadata": {
        "id": "9pzoi0GxlcO8"
      }
    },
    {
      "cell_type": "code",
      "source": [
        "\n",
        "frase = input(\"Digite uma frase: \")\n",
        "\n",
        "\n",
        "palavras = frase.split()\n",
        "contador = {}\n",
        "\n",
        "\n",
        "for palavra in palavras:\n",
        "    if palavra in contador:\n",
        "        contador[palavra] += 1\n",
        "    else:\n",
        "        contador[palavra] = 1\n",
        "\n",
        "\n",
        "print(\"Contagem de palavras:\")\n",
        "for palavra, quantidade in contador.items():\n",
        "    print(f\"{palavra}: {quantidade}\")\n"
      ],
      "metadata": {
        "id": "JhihoGkGf-Zh"
      },
      "execution_count": null,
      "outputs": []
    }
  ]
}